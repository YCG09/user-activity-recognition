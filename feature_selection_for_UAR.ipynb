{
 "cells": [
  {
   "cell_type": "code",
   "execution_count": 1,
   "metadata": {
    "collapsed": true
   },
   "outputs": [],
   "source": [
    "import pandas as pd\n",
    "import numpy as np\n",
    "import os\n",
    "import re\n",
    "from scipy.stats.stats import pearsonr\n",
    "import time\n",
    "import matplotlib.pyplot as plt"
   ]
  },
  {
   "cell_type": "code",
   "execution_count": 2,
   "metadata": {
    "collapsed": true
   },
   "outputs": [],
   "source": [
    "from sklearn.ensemble import RandomForestClassifier\n",
    "from sklearn.cross_validation import train_test_split\n",
    "from sklearn.metrics import confusion_matrix\n",
    "import pickle"
   ]
  },
  {
   "cell_type": "code",
   "execution_count": 3,
   "metadata": {
    "collapsed": true
   },
   "outputs": [],
   "source": [
    "dataset_path = r'C:\\Users\\ycg3\\Desktop\\feature_selection.arff'\n",
    "dataset = pd.read_csv(dataset_path)"
   ]
  },
  {
   "cell_type": "code",
   "execution_count": 4,
   "metadata": {
    "collapsed": true
   },
   "outputs": [],
   "source": [
    "# Read in the features and labels\n",
    "X = dataset.iloc[:, :-1].values  # All the columns but the last one are features\n",
    "Y = dataset.iloc[:, -1].values  # The last column is the label"
   ]
  },
  {
   "cell_type": "code",
   "execution_count": 5,
   "metadata": {
    "collapsed": true
   },
   "outputs": [],
   "source": [
    "# Split the dataset into train and test dataset\n",
    "X_train, X_test, Y_train, Y_test = train_test_split(X, Y, test_size=0.0)"
   ]
  },
  {
   "cell_type": "code",
   "execution_count": 6,
   "metadata": {
    "collapsed": false
   },
   "outputs": [
    {
     "data": {
      "text/plain": [
       "RandomForestClassifier(bootstrap=True, class_weight=None, criterion='gini',\n",
       "            max_depth=None, max_features='auto', max_leaf_nodes=None,\n",
       "            min_samples_leaf=1, min_samples_split=2,\n",
       "            min_weight_fraction_leaf=0.0, n_estimators=30, n_jobs=4,\n",
       "            oob_score=False, random_state=None, verbose=0,\n",
       "            warm_start=False)"
      ]
     },
     "execution_count": 6,
     "metadata": {},
     "output_type": "execute_result"
    }
   ],
   "source": [
    "# Train the classifier\n",
    "rfc = RandomForestClassifier(n_estimators=30, n_jobs=4)#, random_state=10)  # Use 4 CPU cores in parallel\n",
    "rfc.fit(X_train, Y_train)"
   ]
  },
  {
   "cell_type": "code",
   "execution_count": 7,
   "metadata": {
    "collapsed": false,
    "scrolled": false
   },
   "outputs": [
    {
     "name": "stdout",
     "output_type": "stream",
     "text": [
      "Feature ranking:\n",
      "1. feature 1 (0.056470)\n",
      "2. feature 77 (0.053959)\n",
      "3. feature 12 (0.037280)\n",
      "4. feature 2 (0.036107)\n",
      "5. feature 23 (0.036080)\n",
      "6. feature 24 (0.033120)\n",
      "7. feature 3 (0.032326)\n",
      "8. feature 8 (0.030829)\n",
      "9. feature 6 (0.029574)\n",
      "10. feature 7 (0.026693)\n",
      "11. feature 5 (0.026344)\n",
      "12. feature 78 (0.024645)\n",
      "13. feature 125 (0.022969)\n",
      "14. feature 86 (0.022478)\n",
      "15. feature 73 (0.021651)\n",
      "16. feature 20 (0.021420)\n",
      "17. feature 119 (0.017861)\n",
      "18. feature 21 (0.017082)\n",
      "19. feature 11 (0.017078)\n",
      "20. feature 31 (0.016996)\n",
      "21. feature 117 (0.016855)\n",
      "22. feature 122 (0.016235)\n",
      "23. feature 81 (0.015339)\n",
      "24. feature 74 (0.015172)\n",
      "25. feature 19 (0.014765)\n",
      "26. feature 126 (0.014542)\n",
      "27. feature 57 (0.014009)\n",
      "28. feature 118 (0.013515)\n",
      "29. feature 14 (0.013028)\n",
      "30. feature 123 (0.013021)\n",
      "31. feature 121 (0.012201)\n",
      "32. feature 10 (0.011113)\n",
      "33. feature 85 (0.010850)\n",
      "34. feature 9 (0.010810)\n",
      "35. feature 103 (0.010293)\n",
      "36. feature 56 (0.010258)\n",
      "37. feature 30 (0.009881)\n",
      "38. feature 120 (0.009812)\n",
      "39. feature 4 (0.009737)\n",
      "40. feature 76 (0.008068)\n",
      "41. feature 59 (0.008029)\n",
      "42. feature 22 (0.008004)\n",
      "43. feature 124 (0.007998)\n",
      "44. feature 27 (0.007883)\n",
      "45. feature 99 (0.007728)\n",
      "46. feature 55 (0.007243)\n",
      "47. feature 64 (0.007058)\n",
      "48. feature 75 (0.006922)\n",
      "49. feature 13 (0.006312)\n",
      "50. feature 92 (0.006008)\n",
      "51. feature 63 (0.005478)\n",
      "52. feature 101 (0.004723)\n",
      "53. feature 91 (0.004371)\n",
      "54. feature 98 (0.004245)\n",
      "55. feature 104 (0.004228)\n",
      "56. feature 29 (0.004179)\n",
      "57. feature 97 (0.003874)\n",
      "58. feature 95 (0.003550)\n",
      "59. feature 32 (0.003487)\n",
      "60. feature 80 (0.003268)\n",
      "61. feature 84 (0.003203)\n",
      "62. feature 96 (0.003080)\n",
      "63. feature 28 (0.002964)\n",
      "64. feature 26 (0.002964)\n",
      "65. feature 102 (0.002803)\n",
      "66. feature 17 (0.002320)\n",
      "67. feature 15 (0.002010)\n",
      "68. feature 34 (0.001734)\n",
      "69. feature 83 (0.001668)\n",
      "70. feature 100 (0.001549)\n",
      "71. feature 82 (0.001450)\n",
      "72. feature 25 (0.001422)\n",
      "73. feature 94 (0.001415)\n",
      "74. feature 67 (0.001242)\n",
      "75. feature 65 (0.001174)\n",
      "76. feature 105 (0.001050)\n",
      "77. feature 66 (0.001040)\n",
      "78. feature 16 (0.001026)\n",
      "79. feature 58 (0.000925)\n",
      "80. feature 68 (0.000902)\n",
      "81. feature 79 (0.000816)\n",
      "82. feature 61 (0.000792)\n",
      "83. feature 87 (0.000780)\n",
      "84. feature 60 (0.000777)\n",
      "85. feature 93 (0.000771)\n",
      "86. feature 62 (0.000702)\n",
      "87. feature 113 (0.000683)\n",
      "88. feature 107 (0.000673)\n",
      "89. feature 112 (0.000531)\n",
      "90. feature 69 (0.000519)\n",
      "91. feature 106 (0.000495)\n",
      "92. feature 33 (0.000473)\n",
      "93. feature 18 (0.000469)\n",
      "94. feature 116 (0.000462)\n",
      "95. feature 110 (0.000455)\n",
      "96. feature 108 (0.000445)\n",
      "97. feature 48 (0.000444)\n",
      "98. feature 41 (0.000442)\n",
      "99. feature 114 (0.000438)\n",
      "100. feature 90 (0.000420)\n",
      "101. feature 71 (0.000408)\n",
      "102. feature 42 (0.000402)\n",
      "103. feature 0 (0.000397)\n",
      "104. feature 70 (0.000389)\n",
      "105. feature 111 (0.000344)\n",
      "106. feature 54 (0.000337)\n",
      "107. feature 72 (0.000334)\n",
      "108. feature 50 (0.000333)\n",
      "109. feature 37 (0.000325)\n",
      "110. feature 36 (0.000318)\n",
      "111. feature 40 (0.000313)\n",
      "112. feature 38 (0.000308)\n",
      "113. feature 47 (0.000303)\n",
      "114. feature 115 (0.000301)\n",
      "115. feature 88 (0.000296)\n",
      "116. feature 45 (0.000261)\n",
      "117. feature 44 (0.000258)\n",
      "118. feature 43 (0.000246)\n",
      "119. feature 109 (0.000223)\n",
      "120. feature 46 (0.000220)\n",
      "121. feature 89 (0.000215)\n",
      "122. feature 39 (0.000203)\n",
      "123. feature 35 (0.000193)\n",
      "124. feature 49 (0.000189)\n",
      "125. feature 51 (0.000164)\n",
      "126. feature 52 (0.000135)\n",
      "127. feature 53 (0.000000)\n"
     ]
    },
    {
     "data": {
      "image/png": "[encoded data removed]",
      "text/plain": [
       "<matplotlib.figure.Figure at 0x2bdbc50>"
      ]
     },
     "metadata": {},
     "output_type": "display_data"
    }
   ],
   "source": [
    "importances = rfc.feature_importances_\n",
    "std = np.std([tree.feature_importances_ for tree in rfc.estimators_], axis=0)\n",
    "indices = np.argsort(importances)[::-1]\n",
    "print(\"Feature ranking:\")\n",
    "for f in range(len(importances)):\n",
    "    print(\"%d. feature %d (%f)\" % (f + 1, indices[f], importances[indices[f]]))\n",
    "plt.figure()\n",
    "plt.title(\"Feature importances\")\n",
    "plt.bar(range(len(importances)), importances[indices],\n",
    "                    color=\"r\", yerr=std[indices], align=\"center\")\n",
    "plt.xticks(range(len(importances)), indices)\n",
    "plt.xlim([-1, len(importances)])\n",
    "plt.show()"
   ]
  },
  {
   "cell_type": "code",
   "execution_count": null,
   "metadata": {
    "collapsed": true
   },
   "outputs": [],
   "source": []
  },
  {
   "cell_type": "code",
   "execution_count": null,
   "metadata": {
    "collapsed": true
   },
   "outputs": [],
   "source": []
  }
 ],
 "metadata": {
  "anaconda-cloud": {},
  "kernelspec": {
   "display_name": "Python [default]",
   "language": "python",
   "name": "python2"
  },
  "language_info": {
   "codemirror_mode": {
    "name": "ipython",
    "version": 2
   },
   "file_extension": ".py",
   "mimetype": "text/x-python",
   "name": "python",
   "nbconvert_exporter": "python",
   "pygments_lexer": "ipython2",
   "version": "2.7.12"
  }
 },
 "nbformat": 4,
 "nbformat_minor": 1
}
